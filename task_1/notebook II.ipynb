{
 "cells": [
  {
   "cell_type": "code",
   "execution_count": 52,
   "id": "c9f6f784-cf37-497e-8c1e-fce916c3301b",
   "metadata": {},
   "outputs": [],
   "source": [
    "import torch\n",
    "import h5py\n",
    "\n",
    "import numpy as np\n",
    "import pandas as pd\n",
    "import matplotlib.pyplot as plt\n",
    "\n",
    "import os\n",
    "\n",
    "import torch\n",
    "from torch import nn\n",
    "from torch import optim\n",
    "\n",
    "from PIL import Image\n",
    "from torchvision import transforms as T\n",
    "from torch.utils.data import Dataset, DataLoader, TensorDataset, random_split\n",
    "\n",
    "from torchvision import models\n",
    "\n",
    "import gc\n",
    "from random import shuffle"
   ]
  },
  {
   "cell_type": "code",
   "execution_count": 2,
   "id": "5c9d2464-c29c-470f-8947-413a3b18b580",
   "metadata": {},
   "outputs": [],
   "source": [
    "# File paths\n",
    "electron_file = \"dataset/SingleElectronPt50_IMGCROPS_n249k_RHv1.hdf5\"\n",
    "photon_file = \"dataset/SinglePhotonPt50_IMGCROPS_n249k_RHv1.hdf5\""
   ]
  },
  {
   "cell_type": "code",
   "execution_count": 3,
   "id": "8cd203d3-02e7-408a-b1fa-a622cb092207",
   "metadata": {},
   "outputs": [],
   "source": [
    "# Load data files\n",
    "electron_data = h5py.File(name = electron_file)\n",
    "photon_data = h5py.File(name = photon_file)"
   ]
  },
  {
   "cell_type": "code",
   "execution_count": 4,
   "id": "aa175725-4635-4a00-b730-4edbc0240686",
   "metadata": {},
   "outputs": [
    {
     "data": {
      "text/plain": [
       "<KeysViewHDF5 ['X', 'y']>"
      ]
     },
     "execution_count": 4,
     "metadata": {},
     "output_type": "execute_result"
    }
   ],
   "source": [
    "electron_data.keys()"
   ]
  },
  {
   "cell_type": "code",
   "execution_count": 5,
   "id": "ff4be289-61a9-4623-9817-3c63a6fab89c",
   "metadata": {},
   "outputs": [
    {
     "data": {
      "text/plain": [
       "(249000, 32, 32, 2)"
      ]
     },
     "execution_count": 5,
     "metadata": {},
     "output_type": "execute_result"
    }
   ],
   "source": [
    "# Feature shape\n",
    "electron_data['X'].shape"
   ]
  },
  {
   "cell_type": "code",
   "execution_count": 6,
   "id": "cfbab31f-2abd-4e40-88b1-5e5170f0f08b",
   "metadata": {},
   "outputs": [
    {
     "data": {
      "text/plain": [
       "(249000,)"
      ]
     },
     "execution_count": 6,
     "metadata": {},
     "output_type": "execute_result"
    }
   ],
   "source": [
    "# Target shape\n",
    "electron_data['y'].shape"
   ]
  },
  {
   "cell_type": "code",
   "execution_count": 7,
   "id": "a4e1e3e2-19f5-49cd-9122-e78d86c49679",
   "metadata": {},
   "outputs": [
    {
     "data": {
      "text/plain": [
       "(249000, 32, 32, 2)"
      ]
     },
     "execution_count": 7,
     "metadata": {},
     "output_type": "execute_result"
    }
   ],
   "source": [
    "# Feature shape\n",
    "photon_data['X'].shape"
   ]
  },
  {
   "cell_type": "code",
   "execution_count": 8,
   "id": "6387d195-d358-4f60-8817-8f8e31fcaf95",
   "metadata": {},
   "outputs": [
    {
     "data": {
      "text/plain": [
       "(249000,)"
      ]
     },
     "execution_count": 8,
     "metadata": {},
     "output_type": "execute_result"
    }
   ],
   "source": [
    "# Target shape\n",
    "photon_data['y'].shape"
   ]
  },
  {
   "cell_type": "code",
   "execution_count": 9,
   "id": "ea872004-4357-4a98-9be3-fe0ebec26072",
   "metadata": {},
   "outputs": [
    {
     "data": {
      "text/plain": [
       "(249000,)"
      ]
     },
     "execution_count": 9,
     "metadata": {},
     "output_type": "execute_result"
    }
   ],
   "source": [
    "# Target shape\n",
    "photon_data['y'].shape"
   ]
  },
  {
   "cell_type": "code",
   "execution_count": 10,
   "id": "ae9aa0a3-6b4d-49dd-a2fc-19d4d113879a",
   "metadata": {},
   "outputs": [],
   "source": [
    "def h5_to_numpy(h5_file):\n",
    "    X, y = h5_file[\"X\"], h5_file[\"y\"]\n",
    "    return np.array(X), np.array(y)"
   ]
  },
  {
   "cell_type": "code",
   "execution_count": 11,
   "id": "8d050ea5-3270-44f7-bbb0-f34a9be21431",
   "metadata": {},
   "outputs": [],
   "source": [
    "electron_data = h5_to_numpy(electron_data)\n",
    "photon_data = h5_to_numpy(photon_data)"
   ]
  },
  {
   "cell_type": "code",
   "execution_count": 12,
   "id": "5367096c-ac97-4ef9-be47-28aa48a892bc",
   "metadata": {},
   "outputs": [],
   "source": [
    "data = np.concatenate([electron_data[0], photon_data[0]], axis = 0)\n",
    "targets = np.concatenate([electron_data[1].reshape(-1, 1), photon_data[1].reshape(-1, 1)], axis = 0)"
   ]
  },
  {
   "cell_type": "code",
   "execution_count": 13,
   "id": "ed6362c6-877c-489c-a656-a2e58dfe805f",
   "metadata": {},
   "outputs": [],
   "source": [
    "del electron_data\n",
    "del photon_data"
   ]
  },
  {
   "cell_type": "code",
   "execution_count": 14,
   "id": "725bf693-9df7-4052-a1f9-c3930d1bd0f4",
   "metadata": {},
   "outputs": [
    {
     "data": {
      "text/plain": [
       "20"
      ]
     },
     "execution_count": 14,
     "metadata": {},
     "output_type": "execute_result"
    }
   ],
   "source": [
    "gc.collect()"
   ]
  },
  {
   "cell_type": "code",
   "execution_count": 15,
   "id": "45457e4e-5392-4dbe-81c1-77ffd8eca96a",
   "metadata": {},
   "outputs": [
    {
     "data": {
      "text/plain": [
       "dtype('float32')"
      ]
     },
     "execution_count": 15,
     "metadata": {},
     "output_type": "execute_result"
    }
   ],
   "source": [
    "targets.dtype"
   ]
  },
  {
   "cell_type": "code",
   "execution_count": 16,
   "id": "6633f8a1-6408-44fa-8dd1-f5df1a56083e",
   "metadata": {},
   "outputs": [
    {
     "data": {
      "text/plain": [
       "(10, 32, 32, 2)"
      ]
     },
     "execution_count": 16,
     "metadata": {},
     "output_type": "execute_result"
    }
   ],
   "source": [
    "data[:10].shape"
   ]
  },
  {
   "cell_type": "code",
   "execution_count": 17,
   "id": "a1e76741-077d-4bd2-84d4-71022983fe10",
   "metadata": {},
   "outputs": [
    {
     "data": {
      "text/plain": [
       "array([0., 1.], dtype=float32)"
      ]
     },
     "execution_count": 17,
     "metadata": {},
     "output_type": "execute_result"
    }
   ],
   "source": [
    "np.unique(targets)"
   ]
  },
  {
   "cell_type": "code",
   "execution_count": 18,
   "id": "cf27ba1d-c663-46d6-9011-6854c9c117d7",
   "metadata": {},
   "outputs": [
    {
     "data": {
      "text/plain": [
       "array([[1.],\n",
       "       [1.],\n",
       "       [1.],\n",
       "       [1.],\n",
       "       [1.],\n",
       "       [1.],\n",
       "       [1.],\n",
       "       [1.],\n",
       "       [1.],\n",
       "       [1.]], dtype=float32)"
      ]
     },
     "execution_count": 18,
     "metadata": {},
     "output_type": "execute_result"
    }
   ],
   "source": [
    "targets[:10]"
   ]
  },
  {
   "cell_type": "code",
   "execution_count": 19,
   "id": "15b11f1e-473e-4970-afc9-80a765525cd9",
   "metadata": {},
   "outputs": [
    {
     "data": {
      "text/plain": [
       "array([[0.],\n",
       "       [0.],\n",
       "       [0.],\n",
       "       [0.],\n",
       "       [0.],\n",
       "       [0.],\n",
       "       [0.],\n",
       "       [0.],\n",
       "       [0.],\n",
       "       [0.],\n",
       "       [0.],\n",
       "       [0.],\n",
       "       [0.],\n",
       "       [0.],\n",
       "       [0.],\n",
       "       [0.],\n",
       "       [0.],\n",
       "       [0.],\n",
       "       [0.],\n",
       "       [0.]], dtype=float32)"
      ]
     },
     "execution_count": 19,
     "metadata": {},
     "output_type": "execute_result"
    }
   ],
   "source": [
    "targets[-20:]"
   ]
  },
  {
   "cell_type": "code",
   "execution_count": 20,
   "id": "6995dd75-8ced-4dfb-9527-338d496109ce",
   "metadata": {},
   "outputs": [
    {
     "data": {
      "text/plain": [
       "array([[1.],\n",
       "       [1.],\n",
       "       [1.],\n",
       "       ...,\n",
       "       [0.],\n",
       "       [0.],\n",
       "       [0.]], dtype=float32)"
      ]
     },
     "execution_count": 20,
     "metadata": {},
     "output_type": "execute_result"
    }
   ],
   "source": [
    "targets[::2]"
   ]
  },
  {
   "cell_type": "code",
   "execution_count": 21,
   "id": "a084485c-4ec8-4c3b-a7b6-0e4a7bbdbcc8",
   "metadata": {},
   "outputs": [],
   "source": [
    "from sklearn.model_selection import train_test_split"
   ]
  },
  {
   "cell_type": "code",
   "execution_count": 22,
   "id": "9241b176-7df0-4e28-b9f7-e9070ca906b6",
   "metadata": {},
   "outputs": [],
   "source": [
    "y_train, y_test = train_test_split(pd.DataFrame(targets), test_size = .2, shuffle = True, stratify = targets)"
   ]
  },
  {
   "cell_type": "code",
   "execution_count": 23,
   "id": "8c147ca9-9fba-49d1-a662-6a3b1f84b81e",
   "metadata": {},
   "outputs": [],
   "source": [
    "train_indices = y_train.index.values"
   ]
  },
  {
   "cell_type": "code",
   "execution_count": 24,
   "id": "2db04285-56ee-4b43-8540-ada166f4a099",
   "metadata": {},
   "outputs": [],
   "source": [
    "test_indices = y_test.index.values"
   ]
  },
  {
   "cell_type": "code",
   "execution_count": 25,
   "id": "4b913e89-37d5-4ee1-9cc3-4caaeddec812",
   "metadata": {},
   "outputs": [
    {
     "data": {
      "text/plain": [
       "array([347897, 129757,  16521, ..., 248606, 379469,  55067])"
      ]
     },
     "execution_count": 25,
     "metadata": {},
     "output_type": "execute_result"
    }
   ],
   "source": [
    "train_indices"
   ]
  },
  {
   "cell_type": "code",
   "execution_count": 26,
   "id": "2f6b7564-7243-4b7a-964b-73e5e64803ec",
   "metadata": {},
   "outputs": [
    {
     "data": {
      "text/plain": [
       "array([277562,  53086, 322543, ..., 367084, 383966, 464822])"
      ]
     },
     "execution_count": 26,
     "metadata": {},
     "output_type": "execute_result"
    }
   ],
   "source": [
    "test_indices"
   ]
  },
  {
   "cell_type": "code",
   "execution_count": 27,
   "id": "f6d0cbe1-be72-4142-8ed4-ff6a4c0a3d98",
   "metadata": {},
   "outputs": [],
   "source": [
    "# Set device\n",
    "DEVICE = torch.device(\"cuda\" if torch.cuda.is_available() else \"cpu\")"
   ]
  },
  {
   "cell_type": "code",
   "execution_count": 28,
   "id": "5ef18d5d-645a-46ff-beaa-7403c12cf17e",
   "metadata": {},
   "outputs": [],
   "source": [
    "data = torch.tensor(data).to(DEVICE)\n",
    "targets = torch.tensor(targets, dtype = torch.int64).to(DEVICE)"
   ]
  },
  {
   "cell_type": "code",
   "execution_count": 29,
   "id": "75ca0f04-c923-4866-961e-61cb5befe310",
   "metadata": {},
   "outputs": [],
   "source": [
    "# Split into train and test samples\n",
    "train_data, test_data = data[train_indices], data[test_indices]\n",
    "train_targets, test_targets = targets[train_indices], targets[test_indices]"
   ]
  },
  {
   "cell_type": "code",
   "execution_count": 30,
   "id": "5d3b574e-4d2c-40b1-8303-fb0b4e987a0c",
   "metadata": {},
   "outputs": [],
   "source": [
    "del data\n",
    "del targets"
   ]
  },
  {
   "cell_type": "code",
   "execution_count": 31,
   "id": "3b248548-af2a-4185-b7de-96e717658958",
   "metadata": {},
   "outputs": [
    {
     "data": {
      "text/plain": [
       "11"
      ]
     },
     "execution_count": 31,
     "metadata": {},
     "output_type": "execute_result"
    }
   ],
   "source": [
    "gc.collect()"
   ]
  },
  {
   "cell_type": "code",
   "execution_count": 32,
   "id": "254e1cf8-928b-4cad-856a-7bae264429cc",
   "metadata": {},
   "outputs": [],
   "source": [
    "# Generate train and test datasets\n",
    "train_dataset = TensorDataset(train_data.permute(0, 3, 1, 2), train_targets)\n",
    "test_dataset = TensorDataset(test_data.permute(0, 3, 1, 2), test_targets)"
   ]
  },
  {
   "cell_type": "code",
   "execution_count": 33,
   "id": "c53db2d2-1721-4575-9a13-3010623161db",
   "metadata": {},
   "outputs": [],
   "source": [
    "BATCH_SIZE = 128\n",
    "\n",
    "train_dl = DataLoader(train_dataset, batch_size=BATCH_SIZE, shuffle=True)\n",
    "test_dl = DataLoader(test_dataset, batch_size=BATCH_SIZE, shuffle=False)"
   ]
  },
  {
   "cell_type": "code",
   "execution_count": 34,
   "id": "8a5423d9-2446-4b8e-9a1f-af678b56dc48",
   "metadata": {},
   "outputs": [
    {
     "data": {
      "text/plain": [
       "0"
      ]
     },
     "execution_count": 34,
     "metadata": {},
     "output_type": "execute_result"
    }
   ],
   "source": [
    "gc.collect()"
   ]
  },
  {
   "cell_type": "code",
   "execution_count": null,
   "id": "a974b0d3-d1f2-40e2-bf8c-cdb5fc4e7be0",
   "metadata": {},
   "outputs": [],
   "source": []
  },
  {
   "cell_type": "code",
   "execution_count": 35,
   "id": "59104a59-2c81-405c-b4c5-51f27a763c62",
   "metadata": {},
   "outputs": [
    {
     "name": "stderr",
     "output_type": "stream",
     "text": [
      "/home/harkhymadhe/miniforge3/lib/python3.11/site-packages/torchvision/models/_utils.py:208: UserWarning: The parameter 'pretrained' is deprecated since 0.13 and may be removed in the future, please use 'weights' instead.\n",
      "  warnings.warn(\n",
      "/home/harkhymadhe/miniforge3/lib/python3.11/site-packages/torchvision/models/_utils.py:223: UserWarning: Arguments other than a weight enum or `None` for 'weights' are deprecated since 0.13 and may be removed in the future. The current behavior is equivalent to passing `weights=ResNet18_Weights.IMAGENET1K_V1`. You can also use `weights=ResNet18_Weights.DEFAULT` to get the most up-to-date weights.\n",
      "  warnings.warn(msg)\n"
     ]
    }
   ],
   "source": [
    "model = models.resnet18(pretrained=True)"
   ]
  },
  {
   "cell_type": "code",
   "execution_count": 36,
   "id": "ec74f777-3d22-4121-822d-0ce4703ed056",
   "metadata": {
    "scrolled": true
   },
   "outputs": [
    {
     "data": {
      "text/plain": [
       "ResNet(\n",
       "  (conv1): Conv2d(3, 64, kernel_size=(7, 7), stride=(2, 2), padding=(3, 3), bias=False)\n",
       "  (bn1): BatchNorm2d(64, eps=1e-05, momentum=0.1, affine=True, track_running_stats=True)\n",
       "  (relu): ReLU(inplace=True)\n",
       "  (maxpool): MaxPool2d(kernel_size=3, stride=2, padding=1, dilation=1, ceil_mode=False)\n",
       "  (layer1): Sequential(\n",
       "    (0): BasicBlock(\n",
       "      (conv1): Conv2d(64, 64, kernel_size=(3, 3), stride=(1, 1), padding=(1, 1), bias=False)\n",
       "      (bn1): BatchNorm2d(64, eps=1e-05, momentum=0.1, affine=True, track_running_stats=True)\n",
       "      (relu): ReLU(inplace=True)\n",
       "      (conv2): Conv2d(64, 64, kernel_size=(3, 3), stride=(1, 1), padding=(1, 1), bias=False)\n",
       "      (bn2): BatchNorm2d(64, eps=1e-05, momentum=0.1, affine=True, track_running_stats=True)\n",
       "    )\n",
       "    (1): BasicBlock(\n",
       "      (conv1): Conv2d(64, 64, kernel_size=(3, 3), stride=(1, 1), padding=(1, 1), bias=False)\n",
       "      (bn1): BatchNorm2d(64, eps=1e-05, momentum=0.1, affine=True, track_running_stats=True)\n",
       "      (relu): ReLU(inplace=True)\n",
       "      (conv2): Conv2d(64, 64, kernel_size=(3, 3), stride=(1, 1), padding=(1, 1), bias=False)\n",
       "      (bn2): BatchNorm2d(64, eps=1e-05, momentum=0.1, affine=True, track_running_stats=True)\n",
       "    )\n",
       "  )\n",
       "  (layer2): Sequential(\n",
       "    (0): BasicBlock(\n",
       "      (conv1): Conv2d(64, 128, kernel_size=(3, 3), stride=(2, 2), padding=(1, 1), bias=False)\n",
       "      (bn1): BatchNorm2d(128, eps=1e-05, momentum=0.1, affine=True, track_running_stats=True)\n",
       "      (relu): ReLU(inplace=True)\n",
       "      (conv2): Conv2d(128, 128, kernel_size=(3, 3), stride=(1, 1), padding=(1, 1), bias=False)\n",
       "      (bn2): BatchNorm2d(128, eps=1e-05, momentum=0.1, affine=True, track_running_stats=True)\n",
       "      (downsample): Sequential(\n",
       "        (0): Conv2d(64, 128, kernel_size=(1, 1), stride=(2, 2), bias=False)\n",
       "        (1): BatchNorm2d(128, eps=1e-05, momentum=0.1, affine=True, track_running_stats=True)\n",
       "      )\n",
       "    )\n",
       "    (1): BasicBlock(\n",
       "      (conv1): Conv2d(128, 128, kernel_size=(3, 3), stride=(1, 1), padding=(1, 1), bias=False)\n",
       "      (bn1): BatchNorm2d(128, eps=1e-05, momentum=0.1, affine=True, track_running_stats=True)\n",
       "      (relu): ReLU(inplace=True)\n",
       "      (conv2): Conv2d(128, 128, kernel_size=(3, 3), stride=(1, 1), padding=(1, 1), bias=False)\n",
       "      (bn2): BatchNorm2d(128, eps=1e-05, momentum=0.1, affine=True, track_running_stats=True)\n",
       "    )\n",
       "  )\n",
       "  (layer3): Sequential(\n",
       "    (0): BasicBlock(\n",
       "      (conv1): Conv2d(128, 256, kernel_size=(3, 3), stride=(2, 2), padding=(1, 1), bias=False)\n",
       "      (bn1): BatchNorm2d(256, eps=1e-05, momentum=0.1, affine=True, track_running_stats=True)\n",
       "      (relu): ReLU(inplace=True)\n",
       "      (conv2): Conv2d(256, 256, kernel_size=(3, 3), stride=(1, 1), padding=(1, 1), bias=False)\n",
       "      (bn2): BatchNorm2d(256, eps=1e-05, momentum=0.1, affine=True, track_running_stats=True)\n",
       "      (downsample): Sequential(\n",
       "        (0): Conv2d(128, 256, kernel_size=(1, 1), stride=(2, 2), bias=False)\n",
       "        (1): BatchNorm2d(256, eps=1e-05, momentum=0.1, affine=True, track_running_stats=True)\n",
       "      )\n",
       "    )\n",
       "    (1): BasicBlock(\n",
       "      (conv1): Conv2d(256, 256, kernel_size=(3, 3), stride=(1, 1), padding=(1, 1), bias=False)\n",
       "      (bn1): BatchNorm2d(256, eps=1e-05, momentum=0.1, affine=True, track_running_stats=True)\n",
       "      (relu): ReLU(inplace=True)\n",
       "      (conv2): Conv2d(256, 256, kernel_size=(3, 3), stride=(1, 1), padding=(1, 1), bias=False)\n",
       "      (bn2): BatchNorm2d(256, eps=1e-05, momentum=0.1, affine=True, track_running_stats=True)\n",
       "    )\n",
       "  )\n",
       "  (layer4): Sequential(\n",
       "    (0): BasicBlock(\n",
       "      (conv1): Conv2d(256, 512, kernel_size=(3, 3), stride=(2, 2), padding=(1, 1), bias=False)\n",
       "      (bn1): BatchNorm2d(512, eps=1e-05, momentum=0.1, affine=True, track_running_stats=True)\n",
       "      (relu): ReLU(inplace=True)\n",
       "      (conv2): Conv2d(512, 512, kernel_size=(3, 3), stride=(1, 1), padding=(1, 1), bias=False)\n",
       "      (bn2): BatchNorm2d(512, eps=1e-05, momentum=0.1, affine=True, track_running_stats=True)\n",
       "      (downsample): Sequential(\n",
       "        (0): Conv2d(256, 512, kernel_size=(1, 1), stride=(2, 2), bias=False)\n",
       "        (1): BatchNorm2d(512, eps=1e-05, momentum=0.1, affine=True, track_running_stats=True)\n",
       "      )\n",
       "    )\n",
       "    (1): BasicBlock(\n",
       "      (conv1): Conv2d(512, 512, kernel_size=(3, 3), stride=(1, 1), padding=(1, 1), bias=False)\n",
       "      (bn1): BatchNorm2d(512, eps=1e-05, momentum=0.1, affine=True, track_running_stats=True)\n",
       "      (relu): ReLU(inplace=True)\n",
       "      (conv2): Conv2d(512, 512, kernel_size=(3, 3), stride=(1, 1), padding=(1, 1), bias=False)\n",
       "      (bn2): BatchNorm2d(512, eps=1e-05, momentum=0.1, affine=True, track_running_stats=True)\n",
       "    )\n",
       "  )\n",
       "  (avgpool): AdaptiveAvgPool2d(output_size=(1, 1))\n",
       "  (fc): Linear(in_features=512, out_features=1000, bias=True)\n",
       ")"
      ]
     },
     "execution_count": 36,
     "metadata": {},
     "output_type": "execute_result"
    }
   ],
   "source": [
    "model"
   ]
  },
  {
   "cell_type": "code",
   "execution_count": 37,
   "id": "ea966b79-de9e-4b4b-aeb0-6769cf5b9975",
   "metadata": {},
   "outputs": [],
   "source": [
    "for param in model.parameters():\n",
    "    param.requires_grad_(False)"
   ]
  },
  {
   "cell_type": "code",
   "execution_count": 38,
   "id": "71c4fbd8-71fd-4cbd-8090-25edbc39682e",
   "metadata": {},
   "outputs": [],
   "source": [
    "model.conv1 = nn.Conv2d(2, 64, kernel_size=(7, 7), stride=(2, 2), padding=(3, 3), bias=False)"
   ]
  },
  {
   "cell_type": "code",
   "execution_count": 39,
   "id": "4c4083b6-d461-43ca-81bd-977016c24bcf",
   "metadata": {},
   "outputs": [],
   "source": [
    "def initialize_weights(model):\n",
    "    for (name, weights) in filter(lambda x: x[1].requires_grad, model.named_parameters()):\n",
    "        try:\n",
    "            nn.init.kaiming_normal_(weights)\n",
    "        except:\n",
    "            nn.init.normal_(weights, 0., 0.05)\n",
    "    return model\n",
    "\n",
    "def get_l2_loss(model):\n",
    "    return sum([x ** 2 for x in model.parameters()])"
   ]
  },
  {
   "cell_type": "code",
   "execution_count": 40,
   "id": "189c6b13-d1db-43c8-b51e-f72353f6493c",
   "metadata": {},
   "outputs": [],
   "source": [
    "fc = nn.Sequential(\n",
    "    nn.Linear(in_features=model.fc.in_features, out_features=model.fc.in_features // 2),\n",
    "    nn.ReLU(inplace = True),\n",
    "    nn.Linear(in_features=model.fc.in_features//2, out_features=2),\n",
    ")\n",
    "\n",
    "model.fc = fc"
   ]
  },
  {
   "cell_type": "code",
   "execution_count": 41,
   "id": "6e5558d6-a906-4581-99e8-418af4de7b06",
   "metadata": {},
   "outputs": [],
   "source": [
    "model.to(DEVICE)\n",
    "\n",
    "model = initialize_weights(model)"
   ]
  },
  {
   "cell_type": "code",
   "execution_count": 43,
   "id": "d8ab6731-7f4c-4a09-98dc-6e93d1c6c689",
   "metadata": {},
   "outputs": [],
   "source": [
    "EPOCHS = 20\n",
    "l2_lambda = 4e-4\n",
    "\n",
    "criterion = nn.CrossEntropyLoss().to(DEVICE)\n",
    "\n",
    "# Optimizer hyperparameters\n",
    "LR = 1e-4\n",
    "FACTOR = 100\n",
    "AMSGRAD = False\n",
    "BETAS = (.9, .999)"
   ]
  },
  {
   "cell_type": "code",
   "execution_count": 44,
   "id": "0642a379-eb85-4d39-b45d-9ac0db66645c",
   "metadata": {},
   "outputs": [],
   "source": [
    "opt = optim.Adam(\n",
    "    params = [{\n",
    "        \"params\" : model.fc.parameters(),\n",
    "        \"lr\": LR\n",
    "    }],\n",
    "    lr=LR/FACTOR,\n",
    "    amsgrad = AMSGRAD,\n",
    "    betas = BETAS\n",
    ")"
   ]
  },
  {
   "cell_type": "code",
   "execution_count": 45,
   "id": "bf6c54c4-a495-404c-8e6a-ac170b348a21",
   "metadata": {},
   "outputs": [],
   "source": [
    "def get_l2_loss(model):\n",
    "    l2_loss = torch.tensor(0.).cuda()\n",
    "    l2_loss += sum(map(lambda x: x.pow(2).sum(), filter(lambda x: x.requires_grad, model.parameters())))\n",
    "    return l2_loss"
   ]
  },
  {
   "cell_type": "code",
   "execution_count": 46,
   "id": "1c9983dd-2281-4407-b2ef-1c2b15a40260",
   "metadata": {},
   "outputs": [],
   "source": [
    "def collate_function_dl(batch):\n",
    "\n",
    "    #xs = batch[0].clone()\n",
    "    #ys = batch[1].clone()\n",
    "\n",
    "    xs = [item[0].unsqueeze(0) for item in batch]\n",
    "    ys = [item[1] for item in batch]\n",
    "    \n",
    "    xs = torch.cat(xs, dim=0)\n",
    "\n",
    "    y = torch.tensor(ys).view(-1, 1)\n",
    "    \n",
    "    Xs = [torch.rot90(xs, k = _, dims = [-2, -1]) for _ in range(4)]\n",
    "\n",
    "    return torch.cat(Xs, dim = 0), torch.cat([y for _ in range(4)], dim = 0).view(-1)\n",
    "\n",
    "def collate_function(batch):\n",
    "\n",
    "    xs = batch[0].clone()\n",
    "    ys = batch[1].clone().view(-1, 1)\n",
    "    \n",
    "    Xs = [torch.rot90(xs, k = _, dims = [-2, -1]) for _ in range(4)]\n",
    "\n",
    "    return torch.cat(Xs, dim = 0), torch.cat([ys for _ in range(4)], dim = 0).view(-1)"
   ]
  },
  {
   "cell_type": "code",
   "execution_count": 47,
   "id": "971d96a7-e57f-4664-9097-34775d7d83e9",
   "metadata": {},
   "outputs": [],
   "source": [
    "from sklearn.metrics import accuracy_score"
   ]
  },
  {
   "cell_type": "code",
   "execution_count": 48,
   "id": "489102ac-7fd0-4647-b666-229f1a7f61f2",
   "metadata": {
    "scrolled": true
   },
   "outputs": [],
   "source": [
    "def training_loop(epochs, model, optimizer):\n",
    "    TRAIN_LOSSES, TEST_LOSSES = [], []\n",
    "    TRAIN_ACCS, TEST_ACCS = [], []\n",
    "\n",
    "    for epoch in range(1, epochs + 1):\n",
    "        train_losses, test_losses = [], []\n",
    "        train_accs, test_accs = [], []\n",
    "\n",
    "        model.train() # Set up training mode\n",
    "\n",
    "        for batch in iter(train_dl):\n",
    "            X, y = collate_function(batch)\n",
    "            X, y = X.to(DEVICE), y.to(DEVICE)\n",
    "\n",
    "            y_pred = model(X)\n",
    "\n",
    "            train_loss = criterion(y_pred, y) # Compare actual targets and predicted targets to get the loss\n",
    "            train_loss.backward() # Backpropagate the loss\n",
    "            \n",
    "            optimizer.step()\n",
    "            optimizer.zero_grad()\n",
    "\n",
    "            train_losses.append(train_loss.item())\n",
    "\n",
    "            train_acc = accuracy_score(y.cpu().numpy(), y_pred.max(dim = -1).indices.cpu().numpy())\n",
    "            train_accs.append(train_acc)\n",
    "\n",
    "        with torch.no_grad(): # Turn off computational graph\n",
    "            model.eval() # Set model to evaluation mode\n",
    "            for batch in iter(test_dl):\n",
    "                X_, y_ = collate_function(batch)\n",
    "                X_, y_ = X_.to(DEVICE), y_.to(DEVICE)\n",
    "    \n",
    "                y_pred_ = model(X_)\n",
    "    \n",
    "                test_loss = criterion(y_pred_, y_) # Compare actual targets and predicted targets to get the loss\n",
    "                test_losses.append(test_loss.item())\n",
    "\n",
    "                test_acc = accuracy_score(y_.cpu().numpy(), y_pred_.max(dim = -1).indices.cpu().numpy())\n",
    "                test_accs.append(test_acc)\n",
    "\n",
    "        avg_train_loss = sum(train_losses) / len(train_losses)\n",
    "        avg_test_loss = sum(test_losses) / len(test_losses)\n",
    "\n",
    "        avg_train_acc = sum(train_accs) / len(train_accs)\n",
    "        avg_test_acc = sum(test_accs) / len(test_accs)\n",
    "\n",
    "        print(\n",
    "            f\"Epoch: {epoch} | Train loss: {avg_train_loss: .3f} | Test loss: {avg_test_loss: .3f} |\",\n",
    "            f\"Train accuracy: {avg_train_acc: .3f} | Test accuracy: {avg_test_acc: .3f} |\"\n",
    "        )\n",
    "\n",
    "        TRAIN_LOSSES.append(avg_train_loss)\n",
    "        TEST_LOSSES.append(avg_test_loss)\n",
    "\n",
    "        TRAIN_ACCS.append(avg_train_acc)\n",
    "        TEST_ACCS.append(avg_test_acc)\n",
    "\n",
    "    # Clear CUDA cache\n",
    "    torch.cuda.empty_cache()\n",
    "    torch.clear_autocast_cache()\n",
    "\n",
    "    return {\n",
    "        \"loss\": [TRAIN_LOSSES, TEST_LOSSES],\n",
    "        \"accuracy\": [TRAIN_ACCS, TEST_ACCS],\n",
    "        \"model\": model\n",
    "    }"
   ]
  },
  {
   "cell_type": "code",
   "execution_count": 49,
   "id": "d66fc1bb-ef27-4f4b-879f-eb3fd235378a",
   "metadata": {
    "scrolled": true
   },
   "outputs": [
    {
     "name": "stderr",
     "output_type": "stream",
     "text": [
      "/home/harkhymadhe/miniforge3/lib/python3.11/site-packages/torch/nn/modules/conv.py:456: UserWarning: Applied workaround for CuDNN issue, install nvrtc.so (Triggered internally at /home/conda/feedstock_root/build_artifacts/libtorch_1706726118919/work/aten/src/ATen/native/cudnn/Conv_v8.cpp:80.)\n",
      "  return F.conv2d(input, weight, bias, self.stride,\n"
     ]
    },
    {
     "name": "stdout",
     "output_type": "stream",
     "text": [
      "Epoch: 1 | Train loss:  0.728 | Test loss:  0.698 | Train accuracy:  0.516 | Test accuracy:  0.526 |\n",
      "Epoch: 2 | Train loss:  0.696 | Test loss:  0.692 | Train accuracy:  0.526 | Test accuracy:  0.530 |\n",
      "Epoch: 3 | Train loss:  0.693 | Test loss:  0.691 | Train accuracy:  0.529 | Test accuracy:  0.534 |\n",
      "Epoch: 4 | Train loss:  0.692 | Test loss:  0.691 | Train accuracy:  0.531 | Test accuracy:  0.527 |\n",
      "Epoch: 5 | Train loss:  0.691 | Test loss:  0.691 | Train accuracy:  0.533 | Test accuracy:  0.535 |\n",
      "Epoch: 6 | Train loss:  0.690 | Test loss:  0.692 | Train accuracy:  0.535 | Test accuracy:  0.531 |\n",
      "Epoch: 7 | Train loss:  0.689 | Test loss:  0.690 | Train accuracy:  0.537 | Test accuracy:  0.535 |\n",
      "Epoch: 8 | Train loss:  0.688 | Test loss:  0.693 | Train accuracy:  0.539 | Test accuracy:  0.531 |\n",
      "Epoch: 9 | Train loss:  0.688 | Test loss:  0.690 | Train accuracy:  0.541 | Test accuracy:  0.535 |\n",
      "Epoch: 10 | Train loss:  0.687 | Test loss:  0.691 | Train accuracy:  0.544 | Test accuracy:  0.537 |\n",
      "Epoch: 11 | Train loss:  0.686 | Test loss:  0.692 | Train accuracy:  0.545 | Test accuracy:  0.533 |\n",
      "Epoch: 12 | Train loss:  0.685 | Test loss:  0.692 | Train accuracy:  0.546 | Test accuracy:  0.533 |\n",
      "Epoch: 13 | Train loss:  0.685 | Test loss:  0.692 | Train accuracy:  0.548 | Test accuracy:  0.533 |\n",
      "Epoch: 14 | Train loss:  0.684 | Test loss:  0.693 | Train accuracy:  0.549 | Test accuracy:  0.532 |\n",
      "Epoch: 15 | Train loss:  0.684 | Test loss:  0.695 | Train accuracy:  0.551 | Test accuracy:  0.530 |\n",
      "Epoch: 16 | Train loss:  0.683 | Test loss:  0.694 | Train accuracy:  0.552 | Test accuracy:  0.531 |\n",
      "Epoch: 17 | Train loss:  0.682 | Test loss:  0.694 | Train accuracy:  0.554 | Test accuracy:  0.533 |\n",
      "Epoch: 18 | Train loss:  0.682 | Test loss:  0.694 | Train accuracy:  0.555 | Test accuracy:  0.533 |\n",
      "Epoch: 19 | Train loss:  0.681 | Test loss:  0.698 | Train accuracy:  0.556 | Test accuracy:  0.527 |\n",
      "Epoch: 20 | Train loss:  0.680 | Test loss:  0.697 | Train accuracy:  0.558 | Test accuracy:  0.525 |\n"
     ]
    }
   ],
   "source": [
    "# Train Resnet-18 with finetuning\n",
    "model_results = training_loop(epochs = EPOCHS, optimizer = opt, model = model)"
   ]
  },
  {
   "cell_type": "code",
   "execution_count": 50,
   "id": "7eb8849d-01fd-4eac-abf9-9914763cbb4b",
   "metadata": {},
   "outputs": [],
   "source": [
    "def visualize_results(history, key = None):\n",
    "    if key is not None:\n",
    "        TRAIN_RESULTS, TEST_RESULTS = history[key]\n",
    "\n",
    "        plt.figure(figsize = (10, 3))\n",
    "\n",
    "        plt.plot(range(EPOCHS), TRAIN_RESULTS, label = f\"Training {key.capitalize()}\")\n",
    "        plt.plot(range(EPOCHS), TEST_RESULTS, label = f\"Test {key.capitalize()}\")\n",
    "\n",
    "        plt.xlabel(\"Epochs\")\n",
    "        plt.ylabel(key.capitalize())\n",
    "\n",
    "        plt.title(key.capitalize() + \" Evolution for Train and Test Splits\", fontsize = 16)\n",
    "\n",
    "        plt.legend()\n",
    "        plt.show(); plt.close(\"all\")\n",
    "    else:\n",
    "        TRAIN_LOSSES, TEST_LOSSES = history[\"loss\"]\n",
    "        TRAIN_ACCS, TEST_ACCS = history[\"accuracy\"]\n",
    "\n",
    "        fig, ax = plt.subplots(1, 2, figsize = (15, 4))\n",
    "\n",
    "        ax[0].plot(range(EPOCHS), TRAIN_LOSSES, label = \"Training Loss\")\n",
    "        ax[0].plot(range(EPOCHS), TEST_LOSSES, label = \"Test Loss\")\n",
    "\n",
    "        ax[0].set_xlabel(\"Epochs\")\n",
    "        ax[0].set_ylabel(\"Loss\")\n",
    "\n",
    "        ax[0].set_title(\"Loss Evolution for Train and Test Splits\", fontsize = 16)\n",
    "\n",
    "        ax[1].plot(range(EPOCHS), TRAIN_ACCS, label = \"Training Accuracy\")\n",
    "        ax[1].plot(range(EPOCHS), TEST_ACCS, label = \"Test Accuracy\")\n",
    "\n",
    "        ax[1].set_xlabel(\"Epochs\")\n",
    "        ax[1].set_ylabel(\"Accuracy\")\n",
    "\n",
    "        ax[1].set_title(\"Accuracy Evolution for Train and Test Splits\", fontsize = 16)\n",
    "\n",
    "        plt.legend()\n",
    "        plt.show(); plt.close(\"all\")\n",
    "\n",
    "    return"
   ]
  },
  {
   "cell_type": "code",
   "execution_count": null,
   "id": "6f2520e5-9f76-4c5d-8c89-14cc6515edc7",
   "metadata": {},
   "outputs": [],
   "source": []
  },
  {
   "cell_type": "code",
   "execution_count": null,
   "id": "4faef653-d0fa-4513-962e-1322c0455f94",
   "metadata": {},
   "outputs": [],
   "source": []
  },
  {
   "cell_type": "code",
   "execution_count": 53,
   "id": "e216297a-6127-4950-8f70-b66230e813e7",
   "metadata": {},
   "outputs": [
    {
     "data": {
      "image/png": "[encoded data removed]",
      "text/plain": [
       "<Figure size 1500x400 with 2 Axes>"
      ]
     },
     "metadata": {},
     "output_type": "display_data"
    }
   ],
   "source": [
    "# VGG-13 with finetuning\n",
    "visualize_results(model_results)"
   ]
  },
  {
   "cell_type": "code",
   "execution_count": null,
   "id": "a478403b-bc32-42da-8c19-0675dcc91d37",
   "metadata": {},
   "outputs": [],
   "source": []
  },
  {
   "cell_type": "code",
   "execution_count": null,
   "id": "7168b8ca-722b-44a6-936c-9de2202f2d64",
   "metadata": {},
   "outputs": [],
   "source": []
  }
 ],
 "metadata": {
  "kernelspec": {
   "display_name": "Python 3 (ipykernel)",
   "language": "python",
   "name": "python3"
  },
  "language_info": {
   "codemirror_mode": {
    "name": "ipython",
    "version": 3
   },
   "file_extension": ".py",
   "mimetype": "text/x-python",
   "name": "python",
   "nbconvert_exporter": "python",
   "pygments_lexer": "ipython3",
   "version": "3.11.8"
  }
 },
 "nbformat": 4,
 "nbformat_minor": 5
}
